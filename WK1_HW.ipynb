{
 "cells": [
  {
   "cell_type": "markdown",
   "id": "9decd088-2917-46ec-9b0d-9b4a8ff1eadb",
   "metadata": {},
   "source": [
    "## Resouce: [List of built-in methods and functions](https://www.w3schools.com/python/python_ref_string.asp)"
   ]
  },
  {
   "cell_type": "markdown",
   "id": "2b86bbb0-a888-44f4-989e-526768d26ee7",
   "metadata": {},
   "source": [
    "## 1. Convert the following string to a float and round it to the nearest 3 digits after the decimal\n",
    "### pi = 3.14159265 \n",
    "*Hint*: Use functions float() and round()"
   ]
  },
  {
   "cell_type": "code",
   "execution_count": 1,
   "id": "b777705e-aca0-4a10-bf43-394e7d451b12",
   "metadata": {},
   "outputs": [
    {
     "data": {
      "text/plain": [
       "3.142"
      ]
     },
     "execution_count": 1,
     "metadata": {},
     "output_type": "execute_result"
    }
   ],
   "source": [
    "round(3.14159265,3)"
   ]
  },
  {
   "cell_type": "code",
   "execution_count": 2,
   "id": "fbbb10b8",
   "metadata": {},
   "outputs": [
    {
     "data": {
      "text/plain": [
       "3.142"
      ]
     },
     "execution_count": 2,
     "metadata": {},
     "output_type": "execute_result"
    }
   ],
   "source": [
    "pi=3.14159265\n",
    "round(pi,3)"
   ]
  },
  {
   "cell_type": "markdown",
   "id": "513485c6-ab0e-4d2e-84c7-f1fee52aba14",
   "metadata": {},
   "source": [
    "# Conditional Statements\n",
    "\n",
    "## If statements\n",
    "\n",
    "- Evaluates if a given condition is True or False\n",
    "\n",
    "- Indentation is important\n",
    " \n",
    "- Multiple conditions may be checked with 'elif' or 'else if'\n",
    "```python\n",
    "- Relational Operators:\n",
    "    - == : Equal to\n",
    "    - != : Not equal to\n",
    "    - > : Greater than\n",
    "    - < : Less than\n",
    "    - >= : Greater than or equal to\n",
    "    - <= : Less than or equal to\n",
    "\n",
    "- Logical Operators:\n",
    "    - and : Logical AND\n",
    "    - or : Logical OR\n",
    "\n",
    "- Membership Operators:\n",
    "    - in : Value exists in a sequence\n",
    "    - not in : Value does not exist in a sequence\n",
    "```\n",
    "- Python treats non-zero numbers, non-empty strings, lists, and other non-empty objects as True, and zero, None, empty strings, and empty collections as False\n"
   ]
  },
  {
   "cell_type": "code",
   "execution_count": 3,
   "id": "1ef260ec-57d4-4706-867e-2d1195023c5a",
   "metadata": {},
   "outputs": [
    {
     "name": "stdout",
     "output_type": "stream",
     "text": [
      "empty\n"
     ]
    }
   ],
   "source": [
    "x = str(input('enter a string:'))\n",
    "if not x: \n",
    "    print('empty') \n",
    "else: \n",
    "    print(x) \n",
    "\n",
    "# Trick or Think (about what else could the user use as input)"
   ]
  },
  {
   "cell_type": "markdown",
   "id": "6882b993-ad26-40fd-b082-25e5e55fe8d6",
   "metadata": {},
   "source": [
    "# Exercises"
   ]
  },
  {
   "cell_type": "markdown",
   "id": "45372341-4a14-42b6-ab1a-d7ccccca0756",
   "metadata": {},
   "source": [
    "## <font color='red'>1. Write a Python program to check whether a number is even or odd </font>"
   ]
  },
  {
   "cell_type": "code",
   "execution_count": 5,
   "id": "0a4e9b84-9c1f-4f54-9544-d87fe2e12b13",
   "metadata": {},
   "outputs": [
    {
     "name": "stdout",
     "output_type": "stream",
     "text": [
      "this number is even\n"
     ]
    }
   ],
   "source": [
    "x = int(input('Enter a integer'))\n",
    "if x % 2 == 0:\n",
    "    print('this number is even')\n",
    "else:\n",
    "    print('this number is odd')"
   ]
  },
  {
   "attachments": {},
   "cell_type": "markdown",
   "id": "d0f016f4-5672-4c91-9f55-c47ee7ea8911",
   "metadata": {},
   "source": [
    "## 2. Write a Python program to check whether a number is positive, negative, or zero"
   ]
  },
  {
   "cell_type": "code",
   "execution_count": 8,
   "id": "d55dfaef-5e88-48da-b4e3-d5af8f1f10d3",
   "metadata": {},
   "outputs": [
    {
     "name": "stdout",
     "output_type": "stream",
     "text": [
      "this number is negative\n"
     ]
    }
   ],
   "source": [
    "x = int(input('Enter a integer'))\n",
    "if x  > 0:\n",
    "    print('this number is positive')\n",
    "elif x < 0:\n",
    "    print('this number is negative')\n",
    "else:\n",
    "    print('this number is zero')"
   ]
  },
  {
   "cell_type": "markdown",
   "id": "d5c443ba-b591-444e-8fc7-778b6ca952ca",
   "metadata": {},
   "source": [
    "##  Write a Python program to check whether a student has passed or failed based on their marks (Pass mark is 40, maximum mark is 100 & the lowest is 0)"
   ]
  },
  {
   "cell_type": "code",
   "execution_count": 13,
   "id": "9eda3536-2782-4b07-9b31-f1bc5d7aee36",
   "metadata": {},
   "outputs": [
    {
     "name": "stdout",
     "output_type": "stream",
     "text": [
      "pass\n"
     ]
    }
   ],
   "source": [
    "marks = int(input(\"Enter student marks: \"))\n",
    "if  0 <= marks <= 100:\n",
    "    if marks >= 40:\n",
    "        print('pass')\n",
    "    else:\n",
    "        print('fail')\n",
    "else:\n",
    "    print('invalid')"
   ]
  },
  {
   "cell_type": "markdown",
   "id": "4db4078f-0abb-47a7-87ee-7662b0f1a92b",
   "metadata": {},
   "source": [
    "## 4. Write a Python program to find the largest among three numbers"
   ]
  },
  {
   "cell_type": "code",
   "execution_count": 15,
   "id": "86bd82f9-a787-4d35-a398-b76cb2a2efac",
   "metadata": {},
   "outputs": [
    {
     "name": "stdout",
     "output_type": "stream",
     "text": [
      "10\n"
     ]
    }
   ],
   "source": [
    "largest=max(2,3,4,5,6,7,8,9,10)\n",
    "print(largest)"
   ]
  },
  {
   "cell_type": "markdown",
   "id": "4b43858e-859f-443e-964c-9d280bc99b81",
   "metadata": {},
   "source": [
    "## 5. Write a Python program to calculate the grade based on a student's score:\n",
    "```\n",
    "90 and above: A\n",
    "80 to 89: B\n",
    "70 to 79: C\n",
    "60 to 69: D\n",
    "Below 60: F\n",
    "```"
   ]
  },
  {
   "cell_type": "code",
   "execution_count": 16,
   "id": "fc01de2e-2a53-43b3-9dc4-1413972beb49",
   "metadata": {},
   "outputs": [
    {
     "name": "stdout",
     "output_type": "stream",
     "text": [
      "D\n"
     ]
    }
   ],
   "source": [
    "score = int(input(\"Enter student score: \"))\n",
    "if score >= 90 and score <= 100:\n",
    "    print('A')\n",
    "elif score >=80 and score <= 89:\n",
    "    print('B')\n",
    "elif score >=70 and score <= 79:\n",
    "    print('C')\n",
    "elif score >=60 and score <= 69:\n",
    "    print('D')\n",
    "else:\n",
    "    print('F')\n"
   ]
  },
  {
   "cell_type": "markdown",
   "id": "9df85fa2-13f9-4a7b-ba7d-ffcb013c7289",
   "metadata": {},
   "source": [
    "## 6. Write a Python program to calculate a person's BMI and print the health category:\n",
    "```\n",
    "BMI < 18.5: Underweight\n",
    "18.5 ≤ BMI < 24.9: Normal weight\n",
    "25 ≤ BMI < 29.9: Overweight\n",
    "BMI ≥ 30: Obese\n",
    "```\n",
    "*BMI formula:* weight in kilograms (kg) divided by height in meters (m) squared"
   ]
  },
  {
   "cell_type": "code",
   "execution_count": 17,
   "id": "e48670ab-115e-4503-9b40-0787ed5ef256",
   "metadata": {},
   "outputs": [
    {
     "name": "stdout",
     "output_type": "stream",
     "text": [
      "Underweight\n"
     ]
    }
   ],
   "source": [
    "weight = float(input(\"Enter weight in kg: \"))\n",
    "height = float(input(\"Enter height in meters: \"))\n",
    "\n",
    "bmi = weight / height ** 2\n",
    "\n",
    "if bmi < 18.5:\n",
    "    print(\"Underweight\")\n",
    "elif bmi < 25:\n",
    "    print(\"Normal weight\")\n",
    "elif bmi < 30:\n",
    "    print(\"Overweight\")\n",
    "else:\n",
    "    print(\"Obese\")\n"
   ]
  },
  {
   "cell_type": "markdown",
   "id": "b069f322-04a1-4e92-832d-a856f111be0e",
   "metadata": {},
   "source": [
    "## 7. Write a Python program that acts as a simple calculator supporting +, -, *, /. The program should ask for two numbers and an operator, and then perform the corresponding calculation\n",
    "*Note:* Also consider division by 0"
   ]
  },
  {
   "cell_type": "code",
   "execution_count": 19,
   "id": "584ed349-4574-45bd-9a5a-ab30525b9db4",
   "metadata": {},
   "outputs": [
    {
     "name": "stdout",
     "output_type": "stream",
     "text": [
      "Result: -1\n"
     ]
    }
   ],
   "source": [
    "number1 = int(input(\"Enter first number: \"))\n",
    "number2 = int(input(\"Enter second number: \"))\n",
    "operator = input(\"Enter operator (+, -, *, /): \")\n",
    "\n",
    "if operator == \"+\":\n",
    "    result = number1 + number2\n",
    "elif operator == \"-\":\n",
    "    result = number1 - number2\n",
    "elif operator == \"*\":\n",
    "    result = number1 * number2\n",
    "elif operator == \"/\":\n",
    "    result = number1 / number2\n",
    "else:\n",
    "    print(\"Invalid operator\")\n",
    "    exit()\n",
    "\n",
    "print(\"Result:\", result)\n"
   ]
  },
  {
   "cell_type": "markdown",
   "id": "06acc12d-9b9e-435e-a111-324d0b7c9d59",
   "metadata": {},
   "source": [
    "## 8. Write a Python program to check if a given string contains only alphabetic characters (no numbers or symbols) if so also ask for a substring and check if the sentence has that substring\n",
    "*Hint:* Use nested if statements and method .isalpha(). Remember Python is case sensitive!"
   ]
  },
  {
   "cell_type": "markdown",
   "id": "e0c7289b",
   "metadata": {},
   "source": [
    "## 8. Write a Python program to check if a given string contains only alphabetic characters (no numbers or symbols) if so also ask for a substring and check if the sentence has that substring\n",
    "*Hint:* Use nested if statements and method .isalpha(). Remember Python is case sensitive!"
   ]
  },
  {
   "cell_type": "code",
   "execution_count": 24,
   "id": "0a7baf0c-7ae8-4a1c-97de-940a94a49ceb",
   "metadata": {},
   "outputs": [
    {
     "name": "stdout",
     "output_type": "stream",
     "text": [
      "The string contains non-alphabetic characters.\n"
     ]
    }
   ],
   "source": [
    "\n",
    "text = input(\"Enter a string: \")\n",
    "\n",
    "\n",
    "if text.isalpha():\n",
    "    print(\"The string contains only alphabetic characters.\")\n",
    "    \n",
    "    \n",
    "    substring = input(\"Enter a substring to check: \")\n",
    "    \n",
    "    \n",
    "    if substring in text:\n",
    "        print(f\"The substring '{substring}' is present in the string.\")\n",
    "    else:\n",
    "        print(f\"The substring '{substring}' is NOT present in the string.\")\n",
    "else:\n",
    "    print(\"The string contains non-alphabetic characters.\")\n"
   ]
  },
  {
   "cell_type": "markdown",
   "id": "a65576c4-bcf2-4527-8193-3cfd6c8516ad",
   "metadata": {},
   "source": [
    "# Loops\n",
    "\n",
    "- Loops are conditions for repeating statements\n",
    "  \n",
    "- They execute in the order that they appear\n",
    "\n",
    "  \n",
    "- Indentation is crucial\n",
    "\n",
    "  \n",
    "- You can have nested loops\n",
    "\n",
    "- https://blog.penjee.com/wp-content/uploads/2015/11/loop-over-python-list-animation.gif"
   ]
  },
  {
   "cell_type": "markdown",
   "id": "a1c55cd0-907b-4a7f-8572-458005133118",
   "metadata": {},
   "source": [
    "## For loops\n",
    "\n",
    "- Execute code block that repeat a fixed number of times\n",
    "  \n",
    "- Often used with the range() function"
   ]
  },
  {
   "cell_type": "markdown",
   "id": "284e6e23-5cae-40ca-8ae9-3ca1697c9146",
   "metadata": {},
   "source": [
    "## Range() Function\n",
    "- Generates a sequence of numbers\n",
    "  \n",
    "- Can follow the following Syntax:\n",
    "  \n",
    "     - range(start, stop, step)\n",
    "     - range(start, stop)\n",
    "     - range(stop)\n",
    "       \n",
    "- Values are not stored in memory (immutable sequence type)"
   ]
  },
  {
   "cell_type": "code",
   "execution_count": 25,
   "id": "c3dc0cb2-c607-467e-947d-b2b4cb707715",
   "metadata": {},
   "outputs": [
    {
     "name": "stdout",
     "output_type": "stream",
     "text": [
      "3\n"
     ]
    }
   ],
   "source": [
    "# When you DONT use the index value\n",
    "#sentence = 'Hip hip, hoorah'\n",
    "#for i in range(3):\n",
    "#    print(i,sentence)\n",
    "#\n",
    "# When you DO use the index value\n",
    "# Get sum of all values upto 3 = 0+1+2+3 = 6\n",
    "\n",
    "total = 0 # Always initialize the variable you want to use in a loop\n",
    "for i in range(3):\n",
    "    total += i\n",
    "print(total)\n"
   ]
  },
  {
   "cell_type": "markdown",
   "id": "e45b5546-1535-4ff7-8abe-a014747cdd09",
   "metadata": {},
   "source": [
    "## While loops\n",
    "\n",
    "- Used when a condition or code block infinitly"
   ]
  },
  {
   "cell_type": "code",
   "execution_count": 26,
   "id": "5bea25df-a48b-410c-a849-21bdc2413399",
   "metadata": {},
   "outputs": [
    {
     "name": "stdout",
     "output_type": "stream",
     "text": [
      "hi\n",
      "hi\n",
      "hi\n",
      "hi\n",
      "hi\n"
     ]
    }
   ],
   "source": [
    "# Dont run Jupyter will crash x(\n",
    "# while True:\n",
    "#    print('hi')\n",
    "count = 0\n",
    "while True:\n",
    "    print('hi')\n",
    "    count += 1\n",
    "    if count == 5:  \n",
    "        break\n",
    "\n"
   ]
  },
  {
   "cell_type": "code",
   "execution_count": null,
   "id": "80f1f348-37b0-4c68-bbdc-86bd0c48871d",
   "metadata": {},
   "outputs": [
    {
     "name": "stdout",
     "output_type": "stream",
     "text": [
      "['Yuliia']\n",
      "['Yuliia', '']\n",
      "['Yuliia', '', 'Yuliia']\n",
      "['Yuliia', '', 'Yuliia', 'Yuliia']\n",
      "['Yuliia', '', 'Yuliia', 'Yuliia', '']\n",
      "['Yuliia', '', 'Yuliia', 'Yuliia', '', '']\n",
      "['Yuliia', '', 'Yuliia', 'Yuliia', '', '', '']\n",
      "['Yuliia', '', 'Yuliia', 'Yuliia', '', '', '', '']\n",
      "['Yuliia', '', 'Yuliia', 'Yuliia', '', '', '', '', '']\n",
      "['Yuliia', '', 'Yuliia', 'Yuliia', '', '', '', '', '', '']\n",
      "['Yuliia', '', 'Yuliia', 'Yuliia', '', '', '', '', '', '', '']\n",
      "['Yuliia', '', 'Yuliia', 'Yuliia', '', '', '', '', '', '', '', '']\n",
      "['Yuliia', '', 'Yuliia', 'Yuliia', '', '', '', '', '', '', '', '', 'Escape']\n"
     ]
    }
   ],
   "source": [
    "# More useful example\n",
    "x = list()\n",
    "names = str(input('Enter your name: '))\n",
    "\n",
    "while True:\n",
    "    x.append(names)\n",
    "    print(x)\n",
    "    names = str(input('enter your name'))"
   ]
  },
  {
   "cell_type": "markdown",
   "id": "af80603b-ebc4-4cf4-980a-1125f8cd4da7",
   "metadata": {},
   "source": [
    "# Exercises"
   ]
  },
  {
   "cell_type": "markdown",
   "id": "a0d15e12-c111-4794-a444-a35a2efb1221",
   "metadata": {},
   "source": [
    "## 1. Write a Python program that computes the sum of n digits as follows: if n = 5, the sum would be calculated as:\n",
    "### 1 (1) + 2 (2) + 3 (3) + 4 (4) + 5 (5) = 1 + 4 + 9 + 16 + 25 = 55\n"
   ]
  },
  {
   "cell_type": "code",
   "execution_count": null,
   "id": "6899b585-88aa-4718-b369-cdd66d28c22d",
   "metadata": {},
   "outputs": [],
   "source": []
  },
  {
   "cell_type": "markdown",
   "id": "ed934713-4879-4d29-8053-49e439b3edf9",
   "metadata": {},
   "source": [
    "## 2. Write a Python program that calculates the factorial of a number\n",
    "### Ex: if n = 5, the factorial 5! = 5 x 4 x 3 x 2 x 1 = 120\n"
   ]
  },
  {
   "cell_type": "code",
   "execution_count": null,
   "id": "135965e9-af4b-4678-8355-2715a536871a",
   "metadata": {},
   "outputs": [],
   "source": []
  },
  {
   "attachments": {
    "365955a3-8931-4833-8d3b-e6534aa38f63.png": {
     "image/png": "[encoded data removed]"
    },
    "d0acaae7-e4b4-4349-9886-8cb8c5594a13.png": {
     "image/png": "[encoded data removed]"
    }
   },
   "cell_type": "markdown",
   "id": "8cc59d7c-eab7-4eab-b1fd-1314d05b2e9f",
   "metadata": {},
   "source": [
    "## <font color='red'>3. Write a Python program that takes an integer n and prints a right angled triangle with each line the letter of alphabets (ex: line 1: A line2: BB etc) until n rows</font>\n",
    "*Hint:* chr(65) = 'A', involves nested for loops\n",
    "\n",
    "![image.png](attachment:d0acaae7-e4b4-4349-9886-8cb8c5594a13.png) ![image.png](attachment:365955a3-8931-4833-8d3b-e6534aa38f63.png)"
   ]
  },
  {
   "cell_type": "code",
   "execution_count": 24,
   "id": "c2c9f1d3-e622-4d04-8c63-e9510bc30fb5",
   "metadata": {},
   "outputs": [],
   "source": []
  },
  {
   "cell_type": "markdown",
   "id": "38f4d0ba-4369-43da-8757-b2f7d8c57351",
   "metadata": {},
   "source": [
    "## 4. Write a Python program where the user is asked to guess a predefined secret number between 1 and 10. The program should continue asking for guesses until the correct number is guessed, provide feedback if the guess is too high or too low"
   ]
  },
  {
   "cell_type": "code",
   "execution_count": null,
   "id": "04190a4b-0273-461f-88c4-223cf68a3271",
   "metadata": {},
   "outputs": [],
   "source": []
  },
  {
   "attachments": {},
   "cell_type": "markdown",
   "id": "8c96111e-eeaa-435b-a794-6afba85b9259",
   "metadata": {},
   "source": [
    "## 5. Get an integer value for both upper and lower limits from user and print the all the values between and including the limits, Only use the while loop!"
   ]
  },
  {
   "cell_type": "code",
   "execution_count": null,
   "id": "c1f41b3a-33ad-4151-9995-a008fa5af296",
   "metadata": {},
   "outputs": [],
   "source": []
  },
  {
   "cell_type": "markdown",
   "id": "2dae6664-119f-44ca-ab5c-23844270bc17",
   "metadata": {},
   "source": [
    "# Data Structures\n",
    "\n",
    "Data structures are ways of organizing and storing data that you can access within your program\n",
    "\n",
    "- Lists\n",
    "- Dictionaries\n",
    "- Sets\n",
    "- Tuples (Immutable)\n"
   ]
  },
  {
   "cell_type": "markdown",
   "id": "d50e81e9-1296-4c39-9009-3bf3a94a40f2",
   "metadata": {},
   "source": [
    "## Lists\n",
    "\n",
    "- Ordered, mutable collections of items\n",
    "  \n",
    "- Allows duplicate values\n",
    "\n",
    "- Common methods:\n",
    "     - append(), remove(), split(), sorted(), join()"
   ]
  },
  {
   "cell_type": "code",
   "execution_count": null,
   "id": "6bb432ca-a975-48d5-8f7e-deea084ebb15",
   "metadata": {},
   "outputs": [],
   "source": []
  },
  {
   "cell_type": "markdown",
   "id": "3b31b9b9-017c-4099-843f-56467a1125c2",
   "metadata": {},
   "source": [
    "## Dictionaries\n",
    "\n",
    "- Unordered, mutable collections of key-value pairs\n",
    "  \n",
    "- Keys are immutable (you can remove/delete them but cannot change them)\n",
    "\n",
    "- Values can be of any type\n",
    "\n",
    "- Keys are unique\n",
    "\n",
    "- Common methods:\n",
    "     - get(), keys(), values(), items(), update()\n"
   ]
  },
  {
   "cell_type": "code",
   "execution_count": null,
   "id": "56b161fb-5c13-4ab0-bfe9-e351070b7246",
   "metadata": {},
   "outputs": [],
   "source": []
  },
  {
   "cell_type": "code",
   "execution_count": null,
   "id": "f2b7a844-722e-44bf-9786-89d4888a94f8",
   "metadata": {},
   "outputs": [],
   "source": []
  },
  {
   "cell_type": "markdown",
   "id": "13430144-b704-4cc9-99d0-809d3cd6307d",
   "metadata": {},
   "source": [
    "## Sets\n",
    "\n",
    "- Unordered mutable collections of unique items\n",
    "  \n",
    "- No duplicate values\n",
    "\n",
    "- Common methods:\n",
    "    - add(), remove(), discard(), union(), intersection(), difference()"
   ]
  },
  {
   "cell_type": "code",
   "execution_count": null,
   "id": "c5238d45-7e66-413a-b094-f9b25fb2a322",
   "metadata": {},
   "outputs": [],
   "source": []
  },
  {
   "cell_type": "markdown",
   "id": "780018a0-0426-41d2-b19a-e05f67b66f37",
   "metadata": {},
   "source": [
    "## Tuples\n",
    "\n",
    "- Ordered and immutable, (values cannot be changed after creation)\n",
    "\n",
    "- Access elements via zero-based indexing\n",
    "\n",
    "- Allows duplicate values\n",
    "\n",
    "- Common methods:\n",
    "    - count(), index()"
   ]
  },
  {
   "cell_type": "code",
   "execution_count": null,
   "id": "9c5c8494-dd2f-4c53-aa19-cafdbdb7c2a1",
   "metadata": {},
   "outputs": [],
   "source": []
  },
  {
   "cell_type": "markdown",
   "id": "4de111b3-4448-4837-9bdd-2b4929a64e77",
   "metadata": {},
   "source": [
    "# Exercises"
   ]
  },
  {
   "cell_type": "markdown",
   "id": "747e4ff8-a1fa-4eb0-a0fc-0c7ba4fa488a",
   "metadata": {},
   "source": [
    "## 1. Reverse a list\n",
    "```python\n",
    "#Ex: [1,2,3,4] to [4,3,2,1]\n",
    "```"
   ]
  },
  {
   "cell_type": "code",
   "execution_count": null,
   "id": "30774b89-061c-4968-b3b0-ac52ab272755",
   "metadata": {},
   "outputs": [],
   "source": []
  },
  {
   "cell_type": "markdown",
   "id": "3e7edab6-2d90-4744-b002-7fce8b19436d",
   "metadata": {},
   "source": [
    "## 2. Find the median of list\n",
    "```python\n",
    "lst = [7, 1, 3, 4, 9, 5, 6]\n",
    "```\n",
    "*Hint:* to find median use integer division (%)"
   ]
  },
  {
   "cell_type": "code",
   "execution_count": null,
   "id": "c7e3b2d2-517d-4892-a0b0-77c112277dc8",
   "metadata": {},
   "outputs": [],
   "source": []
  },
  {
   "cell_type": "markdown",
   "id": "e4653c24-8d25-438d-85b2-3a6687abf68a",
   "metadata": {},
   "source": [
    "## 3. Remove duplicate elements from a list while maintaining the original order, do not use methods\n",
    "```python\n",
    "Turn this: [1, 2, 2, 3, 4, 4, 5]\n",
    "to: [1, 2, 3, 4, 5]\n",
    "```python"
   ]
  },
  {
   "cell_type": "code",
   "execution_count": null,
   "id": "a0a4bbdd-ad1c-4ce8-8056-87510e83cd8b",
   "metadata": {},
   "outputs": [],
   "source": []
  },
  {
   "cell_type": "markdown",
   "id": "b0dfae16-6eaa-486b-ad68-fa9768161238",
   "metadata": {},
   "source": [
    "## 4. Given a list of elements, create a dictionary that counts the frequency of each element in the list\n",
    "```python\n",
    "Input: ['apple', 'banana', 'apple', 'orange', 'banana', 'apple']\n",
    "Ex Output: {'apple': 3, 'banana': 2, 'orange': 1}\n",
    "```"
   ]
  },
  {
   "cell_type": "code",
   "execution_count": null,
   "id": "d68daf67-6f97-4c64-a109-ba7846b13708",
   "metadata": {},
   "outputs": [],
   "source": []
  },
  {
   "cell_type": "markdown",
   "id": "adcab5a4-360e-4880-be29-6dcd35497320",
   "metadata": {},
   "source": [
    "## 5. Split the following sentence and Join with space seperator\n",
    "```python\n",
    "x ='a**string**is**actually**a**collection**of**characters**much**like**yourselves'\n",
    "```"
   ]
  },
  {
   "cell_type": "code",
   "execution_count": null,
   "id": "f6802ade-0e70-40df-b484-a15fdf810fbe",
   "metadata": {},
   "outputs": [],
   "source": []
  },
  {
   "cell_type": "markdown",
   "id": "a4f945c4-e86f-4e31-9650-5e527a89c7f6",
   "metadata": {},
   "source": [
    "## Resource [Python convention](https://peps.python.org/pep-0008/#introduction)\n",
    "\n"
   ]
  }
 ],
 "metadata": {
  "kernelspec": {
   "display_name": "Python 3",
   "language": "python",
   "name": "python3"
  },
  "language_info": {
   "codemirror_mode": {
    "name": "ipython",
    "version": 3
   },
   "file_extension": ".py",
   "mimetype": "text/x-python",
   "name": "python",
   "nbconvert_exporter": "python",
   "pygments_lexer": "ipython3",
   "version": "3.12.6"
  }
 },
 "nbformat": 4,
 "nbformat_minor": 5
}
