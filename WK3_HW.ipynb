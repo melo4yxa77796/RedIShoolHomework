{
 "cells": [
  {
   "cell_type": "markdown",
   "id": "d44666e4-6b58-4bb6-997a-233777c6331f",
   "metadata": {},
   "source": [
    "# Functions and Modules"
   ]
  },
  {
   "cell_type": "markdown",
   "id": "d59f2368-a9f0-46e5-b442-f8243ebffa8f",
   "metadata": {},
   "source": [
    "## 1. Write a function that converts Celcius to Fahrenheit\n",
    "\n",
    "*Hint:* Farenheit = Celcius_value *(9/5)+32\n",
    "\n",
    "Celcius = (Farenheit_value − 32) * 5/9"
   ]
  },
  {
   "cell_type": "code",
   "execution_count": 12,
   "id": "521ddc62-4384-4d37-9ec9-7524e369d881",
   "metadata": {
    "scrolled": true
   },
   "outputs": [
    {
     "name": "stdout",
     "output_type": "stream",
     "text": [
      "93.2\n"
     ]
    }
   ],
   "source": [
    "cel=34\n",
    "def c_to_f(cel):\n",
    "    return cel*1.8 + 32\n",
    "print(c_to_f(cel))"
   ]
  },
  {
   "cell_type": "markdown",
   "id": "6d10e909-1b0c-42c5-a0e5-9d9d28d9fecb",
   "metadata": {},
   "source": [
    "## <font color='red'>2. Check if a string is a Palindrome\n",
    "*Ex:* the word 'madam' is a palindrome "
   ]
  },
  {
   "cell_type": "code",
   "execution_count": 13,
   "id": "282a976e-a48b-4e93-990c-0e0beb01ba98",
   "metadata": {},
   "outputs": [
    {
     "name": "stdout",
     "output_type": "stream",
     "text": [
      "True\n",
      "False\n"
     ]
    }
   ],
   "source": [
    "def is_palindrome(s):\n",
    "    return s == s[::-1]  \n",
    "\n",
    "print(is_palindrome(\"madam\"))   \n",
    "print(is_palindrome(\"hello\"))   \n"
   ]
  },
  {
   "cell_type": "markdown",
   "id": "f25877d0-954b-492a-8eae-0f8c916fa11c",
   "metadata": {},
   "source": [
    "## 3. Write a function to find the maximum of three numbers, use the max function"
   ]
  },
  {
   "cell_type": "code",
   "execution_count": 2,
   "id": "28a77daf-7823-49d6-8e2c-293d668949fc",
   "metadata": {},
   "outputs": [
    {
     "name": "stdout",
     "output_type": "stream",
     "text": [
      "90\n"
     ]
    }
   ],
   "source": [
    "x=[5,78,90]\n",
    "def largest(x):\n",
    "    return max(x)\n",
    "print(largest(x))"
   ]
  },
  {
   "cell_type": "markdown",
   "id": "e6808465-92da-4c4a-b4c6-352541373f07",
   "metadata": {},
   "source": [
    "## 4. Write a function to calculate the sum of n digits"
   ]
  },
  {
   "cell_type": "code",
   "execution_count": 3,
   "id": "a092e03f-fe7f-48e1-b759-ef0b4584d18e",
   "metadata": {},
   "outputs": [
    {
     "name": "stdout",
     "output_type": "stream",
     "text": [
      "100\n"
     ]
    }
   ],
   "source": [
    "n1=40\n",
    "n2=60\n",
    "def sum(n1,n2):\n",
    "    return n1+n2\n",
    "print(sum(n1,n2))"
   ]
  },
  {
   "cell_type": "markdown",
   "id": "926e5d7e-a7d9-429e-8828-1d1f451b6a50",
   "metadata": {},
   "source": [
    "## 5. Write a function to calculate the factorial of a number"
   ]
  },
  {
   "cell_type": "code",
   "execution_count": 5,
   "id": "d1d13334-2133-416d-84ae-752637b56ccc",
   "metadata": {},
   "outputs": [
    {
     "name": "stdout",
     "output_type": "stream",
     "text": [
      "120\n"
     ]
    }
   ],
   "source": [
    "n=5\n",
    "def fact(n):\n",
    "    f=1\n",
    "    for i in range(1,n+1):\n",
    "        f=f*i\n",
    "    return f\n",
    "print(fact(n))"
   ]
  },
  {
   "cell_type": "markdown",
   "id": "5146a0bd-e5c6-4f7e-a7ee-954d212a66a2",
   "metadata": {},
   "source": [
    "## 6. Write a function to check if a list has duplicates\n",
    "*Ex:* [1,1,2,2,3,4] - this list has duplicate numbers"
   ]
  },
  {
   "cell_type": "code",
   "execution_count": 11,
   "id": "82b1fc9e-012b-4e5c-99cb-48028f6e7516",
   "metadata": {},
   "outputs": [
    {
     "name": "stdout",
     "output_type": "stream",
     "text": [
      "True\n",
      "False\n"
     ]
    }
   ],
   "source": [
    "def has_duplicates(lst):\n",
    "    return len(lst) != len(set(lst))\n",
    "\n",
    "# Example usage\n",
    "numbers = [1, 1, 2, 2, 3, 4]\n",
    "print(has_duplicates(numbers))  # Output: True\n",
    "\n",
    "numbers2 = [1, 2, 3, 4, 5]\n",
    "print(has_duplicates(numbers2))  # Output: False\n"
   ]
  },
  {
   "cell_type": "markdown",
   "id": "bcc1ce82-7f5d-4515-83d4-68f72f5012a3",
   "metadata": {},
   "source": [
    "## 7. Write a fuction to print a sentence three times"
   ]
  },
  {
   "cell_type": "code",
   "execution_count": 16,
   "id": "cc8c8103-ee25-44c5-b1e6-b4e0fd029ec3",
   "metadata": {},
   "outputs": [
    {
     "name": "stdout",
     "output_type": "stream",
     "text": [
      "Hello, world!\n",
      "Hello, world!\n",
      "Hello, world!\n"
     ]
    }
   ],
   "source": [
    "def print_three_times(sentence):\n",
    "    for _ in range(3):  \n",
    "        print(sentence)\n",
    "\n",
    "\n",
    "print_three_times(\"Hello, world!\")"
   ]
  },
  {
   "cell_type": "markdown",
   "id": "8e689ea1-8857-48d9-9a3d-d9b89682fe35",
   "metadata": {},
   "source": [
    "## 8. Write a function to calculate the area of a circle\n",
    "*Hint:* Area of circle = pi*r**2, use the math module"
   ]
  },
  {
   "cell_type": "code",
   "execution_count": 17,
   "id": "5b668964-bcd2-4ab3-84e8-893c44435d31",
   "metadata": {},
   "outputs": [
    {
     "name": "stdout",
     "output_type": "stream",
     "text": [
      "28.259999999999998\n"
     ]
    }
   ],
   "source": [
    "r=3\n",
    "def area(r):\n",
    "    return 3.14*r*r\n",
    "print(area(r))"
   ]
  },
  {
   "cell_type": "markdown",
   "id": "33528b16-d184-48a0-8ca5-971e2ca6cbd7",
   "metadata": {},
   "source": [
    "## 9. Write a function to calculate squareroot of a number using the help of the math module"
   ]
  },
  {
   "cell_type": "code",
   "execution_count": 18,
   "id": "599a9e08-75da-4ec7-9270-18c0c49ea6aa",
   "metadata": {},
   "outputs": [
    {
     "name": "stdout",
     "output_type": "stream",
     "text": [
      "5.0\n",
      "7.0\n"
     ]
    }
   ],
   "source": [
    "import math  \n",
    "\n",
    "def square_root(num):\n",
    "    return math.sqrt(num) \n",
    "\n",
    "print(square_root(25))  \n",
    "print(square_root(49)) \n"
   ]
  },
  {
   "cell_type": "markdown",
   "id": "b8fbf118-da4d-48c6-8bb8-8cccdccbdaa6",
   "metadata": {},
   "source": [
    "## 10. Write a function generate_random_number(a, b) that generates and returns a random integer between a and b using the random module"
   ]
  },
  {
   "cell_type": "code",
   "execution_count": null,
   "id": "8a1a312e-600a-433a-9a5a-0038c0e6196a",
   "metadata": {},
   "outputs": [],
   "source": []
  },
  {
   "cell_type": "markdown",
   "id": "ce014bd0-f68a-4a00-88cc-bd28696c3643",
   "metadata": {},
   "source": [
    "## 11. Write a function to calculate mean and variance of the list x = [6,4,8,10,97] using the statistics module"
   ]
  },
  {
   "cell_type": "code",
   "execution_count": null,
   "id": "16cc6b1e-8878-4074-93d7-81a654a3e587",
   "metadata": {},
   "outputs": [],
   "source": []
  },
  {
   "cell_type": "markdown",
   "id": "03920997-bf94-423f-b365-0693ca2d1e44",
   "metadata": {},
   "source": [
    "## 12. Create a module with functions for the following math equations\n",
    "\n",
    "- *EQ 1* ``` A**2 + B**2 = R**2```\n",
    "- *EQ 2* ``` (A-B)**2 = A**2-2*A*B+B**2```\n",
    "- *EQ 3* ``` (A+B)**2 = A**2+2*A*B+B**2```\n"
   ]
  },
  {
   "cell_type": "markdown",
   "id": "6ddae206-8da3-4617-be92-346e16c2220f",
   "metadata": {},
   "source": [
    "## 13. Write a function to calculate the diameter of a circle but use the result of EQ1 from your module in question 9 as the value for radius\n",
    "\n",
    "*Hint* Diameter of circle = r**2"
   ]
  },
  {
   "cell_type": "code",
   "execution_count": null,
   "id": "839db4ad-c01a-4560-a948-1ed89ca6f398",
   "metadata": {},
   "outputs": [],
   "source": []
  },
  {
   "cell_type": "markdown",
   "id": "3f3d9a2a-6af9-45ff-9cdf-2e5103ad775a",
   "metadata": {},
   "source": [
    "## 14. Write a function to count the frequency of all the letters in this string\n",
    "```python\n",
    "x='CATGTTTCCACTTACAGATCCTTCAAAAAGAGTGTTTCAAAACTGCTCTATGAAAAGGAATGTTCAACTCTGTGAGTTAAATAAAAGCATCAAAAAAAAGTTTCTGAGAATGCTTCTTTCTGAGAATGCTTCTGTCTAGTTTTTATGTGAAAATAGTTCGTTCTCCAAAATAGTCCTCAAAGCGCTCCAAATGTCCACTTGCAGATTCTACAAAAAGAGTGTTTCAAAACTGCTCTATGAAAAGGAATGTTCAACT'\n",
    "\n",
    "Your output should look like this: {'C': 47, 'A': 88, 'T': 80, 'G': 41}\n",
    "```"
   ]
  },
  {
   "cell_type": "markdown",
   "id": "c7dbe318-711d-4b6f-89af-65fdee7d14f6",
   "metadata": {},
   "source": [
    "## 15. Write a function to perform a die roll each time you call it\n",
    "*Hint:* Use the random() module"
   ]
  },
  {
   "cell_type": "markdown",
   "id": "e488495e-4f91-40f3-bfe4-bf848ae7193a",
   "metadata": {},
   "source": [
    "## Resource [Python built-in modules](https://www.w3schools.com/python/module_random.asp)"
   ]
  },
  {
   "cell_type": "code",
   "execution_count": 12,
   "id": "48c650a0-7184-4fab-b3b5-06c361abf428",
   "metadata": {},
   "outputs": [
    {
     "name": "stdout",
     "output_type": "stream",
     "text": [
      "Happy birthday to you\n",
      "Happy birthday to you\n",
      "Happy birthday dear Bob\n",
      "Happy birthday to you\n"
     ]
    }
   ],
   "source": [
    "import wish\n",
    "\n",
    "wish.bday('Bob')"
   ]
  },
  {
   "cell_type": "code",
   "execution_count": null,
   "id": "aee53761-e720-4dba-a67b-d8eb6a94a007",
   "metadata": {},
   "outputs": [],
   "source": []
  }
 ],
 "metadata": {
  "kernelspec": {
   "display_name": "Python 3",
   "language": "python",
   "name": "python3"
  },
  "language_info": {
   "codemirror_mode": {
    "name": "ipython",
    "version": 3
   },
   "file_extension": ".py",
   "mimetype": "text/x-python",
   "name": "python",
   "nbconvert_exporter": "python",
   "pygments_lexer": "ipython3",
   "version": "3.12.6"
  }
 },
 "nbformat": 4,
 "nbformat_minor": 5
}
